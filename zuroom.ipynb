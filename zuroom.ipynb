{
 "cells": [
  {
   "cell_type": "code",
   "execution_count": 1,
   "metadata": {},
   "outputs": [],
   "source": [
    "import pandas as pd\n",
    "import requests\n",
    "import re\n",
    "from bs4 import BeautifulSoup\n",
    "from lxml import html\n",
    "from lxml import etree"
   ]
  },
  {
   "cell_type": "code",
   "execution_count": null,
   "metadata": {},
   "outputs": [],
   "source": [
    "# https://cloud.tencent.com/developer/article/1856411"
   ]
  },
  {
   "cell_type": "code",
   "execution_count": 2,
   "metadata": {},
   "outputs": [],
   "source": [
    "# URL containing the house information\n",
    "url = 'https://sh.ziroom.com/z/'\n",
    "\n",
    "# Sending a request to the URL\n",
    "\n",
    "headers = {\n",
    "    \"Accept\": \"text/html,application/xhtml+xml,application/xml;q=0.9,image/webp,image/apng,*/*;q=0.8,application/signed-exchange;v=b3;q=0.7\",\n",
    "    \"Accept-Encoding\": \"gzip, deflate, br\",\n",
    "    \"Accept-Language\": \"zh-CN,zh;q=0.9,en;q=0.8,en-GB;q=0.7,en-US;q=0.6\",\n",
    "    \"Cache-Control\": \"no-cache\",\n",
    "    \"Connection\": \"keep-alive\",\n",
    "    \"Cookie\": \"__jsluid_s=c84d7d8928630ab3e84c5d43ed5aed36; CURRENT_CITY_CODE=310000; CURRENT_CITY_NAME=%E4%B8%8A%E6%B5%B7; _csrf=c4Pq95PGgUFsdMeHlUqHeP5cjRNw-cGc; Hm_lvt_4f083817a81bcb8eed537963fc1bbf10=1719286221; sajssdk_2015_cross_new_user=1; sensorsdata2015jssdkcross=%7B%22distinct_id%22%3A%221904d71d2b9b8-01bcc88c1d9658-19525637-1187056-1904d71d2ba3f7%22%2C%22%24device_id%22%3A%221904d71d2b9b8-01bcc88c1d9658-19525637-1187056-1904d71d2ba3f7%22%2C%22props%22%3A%7B%22%24latest_traffic_source_type%22%3A%22%E7%9B%B4%E6%8E%A5%E6%B5%81%E9%87%8F%22%2C%22%24latest_referrer%22%3A%22%22%2C%22%24latest_referrer_host%22%3A%22%22%2C%22%24latest_search_keyword%22%3A%22%E6%9C%AA%E5%8F%96%E5%88%B0%E5%80%BC_%E7%9B%B4%E6%8E%A5%E6%89%93%E5%BC%80%22%7D%7D; __jsl_clearance_s=1719310947.645|0|48XdxWpkuoFXTa9Rgkncg8zdf8Y%3D; visitHistory=%5B%22810379705%22%2C%22810294809%22%5D; Hm_lpvt_4f083817a81bcb8eed537963fc1bbf10=1719310961\",\n",
    "    \"Host\": \"sh.ziroom.com\",\n",
    "    \"Pragma\": \"no-cache\",\n",
    "    \"sec-ch-ua\": \"\\\"Microsoft Edge\\\";v=\\\"113\\\", \\\"Chromium\\\";v=\\\"113\\\", \\\"Not-A.Brand\\\";v=\\\"24\\\"\",\n",
    "    \"sec-ch-ua-mobile\": \"?0\",\n",
    "    \"sec-ch-ua-platform\": \"\\\"Windows\\\"\",\n",
    "    \"Sec-Fetch-Dest\": \"document\",\n",
    "    \"Sec-Fetch-Mode\": \"navigate\",\n",
    "    \"Sec-Fetch-Site\": \"none\",\n",
    "    \"Sec-Fetch-User\": \"?1\",\n",
    "    \"Upgrade-Insecure-Requests\": \"1\",\n",
    "    \"User-Agent\": \"Mozilla/5.0 (Windows NT 10.0; Win64; x64) AppleWebKit/537.36 (KHTML, like Gecko) Chrome/113.0.0.0 Safari/537.36 Edg/113.0.1774.57\"\n",
    "}\n",
    "response = requests.get(url, headers=headers, verify=None)\n",
    "tree = etree.HTML(response.content)\n",
    "\n",
    "# XPath query to find all items\n",
    "items = tree.xpath('//div[@class=\"item\"]')\n",
    "\n",
    "# Extracting information from each item using XPath\n",
    "for item in items[:1]:\n",
    "    website_url = tree.xpath('//div[@class=\"item\"]//a/@href')\n",
    "    full_website_url = f\"https:{website_url}\"\n",
    "    title = item.xpath('.//h5[@class=\"title sign\"]/a/text()')[0]\n",
    "    desc = item.xpath('.//div[@class=\"desc\"]/div/text()')\n",
    "    details = \" | \".join(desc)\n",
    "    print(f'Title: {title}')\n",
    "    print(f'Details: {details}')\n",
    "    print(f'Website: {full_website_url}')\n",
    "    print('-' * 20)\n",
    "\n",
    "    # Using XPath to extract the style attribute from the first 'span' element with class 'num'\n",
    "    image_style = item.xpath('//span[@class=\"num\"]/@style')\n",
    "\n",
    "    # Initialize lists for URLs and positions\n",
    "    urls = []\n",
    "    positions = []\n",
    "\n",
    "    # Extracting URL and all background positions\n",
    "    background_positions = []\n",
    "    for style in image_style:\n",
    "        if 'background-image' in style:\n",
    "            image_url = \"https:\" + re.search(r\"url\\((.*?)\\)\", style).group(1)\n",
    "        if 'background-position' in style:\n",
    "            position = re.search(r\"background-position:\\s*(-?\\d+(\\.\\d+)?(px|%)?)\", style).group(1)\n",
    "            background_positions.append(position)\n",
    "\n",
    "    # Output extracted information\n",
    "    print(\"Image URL:\", image_url)\n",
    "    print(\"Background Positions:\", background_positions)\n",
    "\n",
    "    # Outputting the results\n",
    "    print(\"URLs:\", urls)\n",
    "    print(\"Background Positions:\", positions)\n",
    "\n",
    "    # Example of downloading the first image (assuming all URLs are the same)\n",
    "    image_response = requests.get(urls[0])\n",
    "    with open('image.png', 'wb') as file:\n",
    "        file.write(image_response.content)\n",
    "\n",
    "    print(\"First image has been downloaded successfully.\")"
   ]
  },
  {
   "cell_type": "code",
   "execution_count": 3,
   "metadata": {},
   "outputs": [
    {
     "ename": "NameError",
     "evalue": "name 'image_style' is not defined",
     "output_type": "error",
     "traceback": [
      "\u001b[0;31m---------------------------------------------------------------------------\u001b[0m",
      "\u001b[0;31mNameError\u001b[0m                                 Traceback (most recent call last)",
      "Cell \u001b[0;32mIn[3], line 1\u001b[0m\n\u001b[0;32m----> 1\u001b[0m \u001b[43mimage_style\u001b[49m\n",
      "\u001b[0;31mNameError\u001b[0m: name 'image_style' is not defined"
     ]
    }
   ],
   "source": [
    "image_style"
   ]
  }
 ],
 "metadata": {
  "kernelspec": {
   "display_name": "base",
   "language": "python",
   "name": "python3"
  },
  "language_info": {
   "codemirror_mode": {
    "name": "ipython",
    "version": 3
   },
   "file_extension": ".py",
   "mimetype": "text/x-python",
   "name": "python",
   "nbconvert_exporter": "python",
   "pygments_lexer": "ipython3",
   "version": "3.10.9"
  }
 },
 "nbformat": 4,
 "nbformat_minor": 2
}
